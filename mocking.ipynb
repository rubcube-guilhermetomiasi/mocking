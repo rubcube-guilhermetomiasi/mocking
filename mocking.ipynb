{
 "cells": [
  {
   "cell_type": "markdown",
   "metadata": {},
   "source": [
    "Constantes: tamanho do Mock e instância do Faker"
   ]
  },
  {
   "cell_type": "code",
   "execution_count": 1,
   "metadata": {},
   "outputs": [],
   "source": [
    "from faker import Faker\n",
    "USER_COUNT = 5591\n",
    "TRANSFER_COUNT = 5591 * 2\n",
    "fake = Faker()"
   ]
  },
  {
   "cell_type": "markdown",
   "metadata": {},
   "source": [
    "# Dados de Usuário"
   ]
  },
  {
   "cell_type": "markdown",
   "metadata": {},
   "source": [
    "Gerando IDs"
   ]
  },
  {
   "cell_type": "code",
   "execution_count": 2,
   "metadata": {},
   "outputs": [],
   "source": [
    "users = list()\n",
    "for i in range(USER_COUNT):\n",
    "    new_user = dict()\n",
    "    new_user['id'] = fake.uuid4()\n",
    "    users.append(new_user)"
   ]
  },
  {
   "cell_type": "markdown",
   "metadata": {},
   "source": [
    "Gerando *created_at* e *updated_at*"
   ]
  },
  {
   "cell_type": "markdown",
   "metadata": {},
   "source": [
    "Utilizando distribuição ponderada, priorizando os meses 2, 3 e 4."
   ]
  },
  {
   "cell_type": "code",
   "execution_count": 3,
   "metadata": {},
   "outputs": [
    {
     "data": {
      "image/png": "[encoded data removed]",
      "text/plain": [
       "<Figure size 640x480 with 1 Axes>"
      ]
     },
     "metadata": {},
     "output_type": "display_data"
    }
   ],
   "source": [
    "import numpy as np\n",
    "from matplotlib import pyplot as plt\n",
    "\n",
    "available = np.array([1, 2, 3, 4, 5, 6])\n",
    "weights = np.array([1/6, 1/5, 1/4, 1/3, 1/7, 1/5])\n",
    "weights = weights / np.sum(weights)\n",
    "months = np.random.choice(available, p=weights, size=USER_COUNT)\n",
    "plt.hist(months)\n",
    "plt.show()"
   ]
  },
  {
   "cell_type": "code",
   "execution_count": 4,
   "metadata": {},
   "outputs": [],
   "source": [
    "from datetime import datetime\n",
    "import calendar\n",
    "\n",
    "for i in range(USER_COUNT):\n",
    "    month = months[i]\n",
    "    _, day_end = calendar.monthrange(2023, month)\n",
    "    start_date = datetime(2023, month, 1)\n",
    "    end_date = datetime(2023, month, day_end)\n",
    "    new_c_at = fake.date_time_between(start_date=start_date, end_date=end_date)\n",
    "    users[i]['created_at'] = new_c_at.isoformat()\n",
    "    new_u_at = fake.date_time_between(start_date=new_c_at, end_date=datetime(2023, 7, 1))\n",
    "    users[i]['updated_at'] = new_u_at.isoformat()"
   ]
  },
  {
   "cell_type": "markdown",
   "metadata": {},
   "source": [
    "Gerando datas de nascimento"
   ]
  },
  {
   "cell_type": "code",
   "execution_count": 5,
   "metadata": {},
   "outputs": [
    {
     "name": "stdout",
     "output_type": "stream",
     "text": [
      "Ano mínimo: 1952\n",
      "Ano máximo: 2005\n"
     ]
    },
    {
     "data": {
      "image/png": "[encoded data removed]",
      "text/plain": [
       "<Figure size 640x480 with 1 Axes>"
      ]
     },
     "metadata": {},
     "output_type": "display_data"
    }
   ],
   "source": [
    "from matplotlib import pyplot as plt\n",
    "from scipy.stats import skewnorm\n",
    "\n",
    "random_years = skewnorm.rvs(a=-1.25,loc=1998, scale=12, size=USER_COUNT)\n",
    "while True:\n",
    "  random_years = np.round(random_years, 0).astype(int)\n",
    "  outside_interval = np.argwhere(random_years > 2005).flatten()\n",
    "  if (outside_interval.size == 0):\n",
    "    break\n",
    "  random_years[outside_interval] = skewnorm.rvs(a=-1.25,loc=1998, scale=12, size=len(outside_interval))\n",
    "# Count the number of users created in each year\n",
    "# Year is x axis, count is y axis\n",
    "minimum_year = np.min(random_years)\n",
    "maximum_year = np.max(random_years)\n",
    "print(f'Ano mínimo: {minimum_year}')\n",
    "print(f'Ano máximo: {maximum_year}')\n",
    "plt.hist(random_years, bins=range(minimum_year, maximum_year))\n",
    "plt.show()"
   ]
  },
  {
   "cell_type": "code",
   "execution_count": 6,
   "metadata": {},
   "outputs": [],
   "source": [
    "for i in range(USER_COUNT):\n",
    "    random_date = fake.date(pattern='%m-%d')\n",
    "    random_date_with_year = f'{random_years[i]}-{random_date}'\n",
    "    users[i]['birthday'] = random_date_with_year"
   ]
  },
  {
   "cell_type": "code",
   "execution_count": 7,
   "metadata": {},
   "outputs": [],
   "source": [
    "import pandas as pd\n",
    "\n",
    "pd.DataFrame(users).to_csv('users.csv', index=False)"
   ]
  },
  {
   "cell_type": "markdown",
   "metadata": {},
   "source": [
    "# Endereços"
   ]
  },
  {
   "cell_type": "markdown",
   "metadata": {},
   "source": [
    "Reservaremos 391 para serem de fora do Brasil. Com prioridade para a América Latina.\n",
    "Por que 391? Porque 400 deixa muito na cara que é mock."
   ]
  },
  {
   "cell_type": "markdown",
   "metadata": {},
   "source": [
    "## Resididos no Brasil"
   ]
  },
  {
   "cell_type": "code",
   "execution_count": 8,
   "metadata": {},
   "outputs": [],
   "source": [
    "USERS_IN_BRAZIL = USER_COUNT - 391"
   ]
  },
  {
   "cell_type": "markdown",
   "metadata": {},
   "source": [
    "Utilizando .csv de municipios contidos [aqui](http://blog.mds.gov.br/redesuas/wp-content/uploads/2018/06/Lista_Munic%C3%ADpios_com_IBGE_Brasil_Versao_CSV.csv)"
   ]
  },
  {
   "cell_type": "code",
   "execution_count": 9,
   "metadata": {},
   "outputs": [
    {
     "data": {
      "text/html": [
       "<div>\n",
       "<style scoped>\n",
       "    .dataframe tbody tr th:only-of-type {\n",
       "        vertical-align: middle;\n",
       "    }\n",
       "\n",
       "    .dataframe tbody tr th {\n",
       "        vertical-align: top;\n",
       "    }\n",
       "\n",
       "    .dataframe thead th {\n",
       "        text-align: right;\n",
       "    }\n",
       "</style>\n",
       "<table border=\"1\" class=\"dataframe\">\n",
       "  <thead>\n",
       "    <tr style=\"text-align: right;\">\n",
       "      <th></th>\n",
       "      <th>IBGE</th>\n",
       "      <th>IBGE7</th>\n",
       "      <th>UF</th>\n",
       "      <th>Município</th>\n",
       "      <th>Região</th>\n",
       "      <th>População 2010</th>\n",
       "      <th>Porte</th>\n",
       "      <th>Capital</th>\n",
       "    </tr>\n",
       "  </thead>\n",
       "  <tbody>\n",
       "    <tr>\n",
       "      <th>3827</th>\n",
       "      <td>355030</td>\n",
       "      <td>3550308</td>\n",
       "      <td>SP</td>\n",
       "      <td>São Paulo</td>\n",
       "      <td>Região Sudeste</td>\n",
       "      <td>11253503.0</td>\n",
       "      <td>Metrópole</td>\n",
       "      <td>Capital</td>\n",
       "    </tr>\n",
       "    <tr>\n",
       "      <th>3240</th>\n",
       "      <td>330455</td>\n",
       "      <td>3304557</td>\n",
       "      <td>RJ</td>\n",
       "      <td>Rio de Janeiro</td>\n",
       "      <td>Região Sudeste</td>\n",
       "      <td>6320446.0</td>\n",
       "      <td>Metrópole</td>\n",
       "      <td>Capital</td>\n",
       "    </tr>\n",
       "    <tr>\n",
       "      <th>2160</th>\n",
       "      <td>292740</td>\n",
       "      <td>2927408</td>\n",
       "      <td>BA</td>\n",
       "      <td>Salvador</td>\n",
       "      <td>Região Nordeste</td>\n",
       "      <td>2675656.0</td>\n",
       "      <td>Metrópole</td>\n",
       "      <td>Capital</td>\n",
       "    </tr>\n",
       "    <tr>\n",
       "      <th>5567</th>\n",
       "      <td>530010</td>\n",
       "      <td>5300108</td>\n",
       "      <td>DF</td>\n",
       "      <td>Brasília</td>\n",
       "      <td>Região Centro-Oeste</td>\n",
       "      <td>2570160.0</td>\n",
       "      <td>Metrópole</td>\n",
       "      <td>Capital</td>\n",
       "    </tr>\n",
       "    <tr>\n",
       "      <th>947</th>\n",
       "      <td>230440</td>\n",
       "      <td>2304400</td>\n",
       "      <td>CE</td>\n",
       "      <td>Fortaleza</td>\n",
       "      <td>Região Nordeste</td>\n",
       "      <td>2452185.0</td>\n",
       "      <td>Metrópole</td>\n",
       "      <td>Capital</td>\n",
       "    </tr>\n",
       "    <tr>\n",
       "      <th>2307</th>\n",
       "      <td>310620</td>\n",
       "      <td>3106200</td>\n",
       "      <td>MG</td>\n",
       "      <td>Belo Horizonte</td>\n",
       "      <td>Região Sudeste</td>\n",
       "      <td>2375151.0</td>\n",
       "      <td>Metrópole</td>\n",
       "      <td>Capital</td>\n",
       "    </tr>\n",
       "    <tr>\n",
       "      <th>109</th>\n",
       "      <td>130260</td>\n",
       "      <td>1302603</td>\n",
       "      <td>AM</td>\n",
       "      <td>Manaus</td>\n",
       "      <td>Região Norte</td>\n",
       "      <td>1802014.0</td>\n",
       "      <td>Metrópole</td>\n",
       "      <td>Capital</td>\n",
       "    </tr>\n",
       "    <tr>\n",
       "      <th>4003</th>\n",
       "      <td>410690</td>\n",
       "      <td>4106902</td>\n",
       "      <td>PR</td>\n",
       "      <td>Curitiba</td>\n",
       "      <td>Região Sul</td>\n",
       "      <td>1751907.0</td>\n",
       "      <td>Metrópole</td>\n",
       "      <td>Capital</td>\n",
       "    </tr>\n",
       "    <tr>\n",
       "      <th>1594</th>\n",
       "      <td>261160</td>\n",
       "      <td>2611606</td>\n",
       "      <td>PE</td>\n",
       "      <td>Recife</td>\n",
       "      <td>Região Nordeste</td>\n",
       "      <td>1537704.0</td>\n",
       "      <td>Metrópole</td>\n",
       "      <td>Capital</td>\n",
       "    </tr>\n",
       "    <tr>\n",
       "      <th>4929</th>\n",
       "      <td>431490</td>\n",
       "      <td>4314902</td>\n",
       "      <td>RS</td>\n",
       "      <td>Porto Alegre</td>\n",
       "      <td>Região Sul</td>\n",
       "      <td>1409351.0</td>\n",
       "      <td>Metrópole</td>\n",
       "      <td>Capital</td>\n",
       "    </tr>\n",
       "    <tr>\n",
       "      <th>167</th>\n",
       "      <td>150140</td>\n",
       "      <td>1501402</td>\n",
       "      <td>PA</td>\n",
       "      <td>Belém</td>\n",
       "      <td>Região Norte</td>\n",
       "      <td>1393399.0</td>\n",
       "      <td>Metrópole</td>\n",
       "      <td>Capital</td>\n",
       "    </tr>\n",
       "    <tr>\n",
       "      <th>5415</th>\n",
       "      <td>520870</td>\n",
       "      <td>5208707</td>\n",
       "      <td>GO</td>\n",
       "      <td>Goiânia</td>\n",
       "      <td>Região Centro-Oeste</td>\n",
       "      <td>1302001.0</td>\n",
       "      <td>Metrópole</td>\n",
       "      <td>Capital</td>\n",
       "    </tr>\n",
       "    <tr>\n",
       "      <th>3477</th>\n",
       "      <td>351880</td>\n",
       "      <td>3518800</td>\n",
       "      <td>SP</td>\n",
       "      <td>Guarulhos</td>\n",
       "      <td>Região Sudeste</td>\n",
       "      <td>1221979.0</td>\n",
       "      <td>Metrópole</td>\n",
       "      <td>NaN</td>\n",
       "    </tr>\n",
       "    <tr>\n",
       "      <th>3373</th>\n",
       "      <td>350950</td>\n",
       "      <td>3509502</td>\n",
       "      <td>SP</td>\n",
       "      <td>Campinas</td>\n",
       "      <td>Região Sudeste</td>\n",
       "      <td>1080113.0</td>\n",
       "      <td>Metrópole</td>\n",
       "      <td>NaN</td>\n",
       "    </tr>\n",
       "    <tr>\n",
       "      <th>633</th>\n",
       "      <td>211130</td>\n",
       "      <td>2111300</td>\n",
       "      <td>MA</td>\n",
       "      <td>São Luís</td>\n",
       "      <td>Região Nordeste</td>\n",
       "      <td>1014837.0</td>\n",
       "      <td>Metrópole</td>\n",
       "      <td>Capital</td>\n",
       "    </tr>\n",
       "    <tr>\n",
       "      <th>3245</th>\n",
       "      <td>330490</td>\n",
       "      <td>3304904</td>\n",
       "      <td>RJ</td>\n",
       "      <td>São Gonçalo</td>\n",
       "      <td>Região Sudeste</td>\n",
       "      <td>999728.0</td>\n",
       "      <td>Metrópole</td>\n",
       "      <td>NaN</td>\n",
       "    </tr>\n",
       "    <tr>\n",
       "      <th>1694</th>\n",
       "      <td>270430</td>\n",
       "      <td>2704302</td>\n",
       "      <td>AL</td>\n",
       "      <td>Maceió</td>\n",
       "      <td>Região Nordeste</td>\n",
       "      <td>932748.0</td>\n",
       "      <td>Metrópole</td>\n",
       "      <td>Capital</td>\n",
       "    </tr>\n",
       "    <tr>\n",
       "      <th>3197</th>\n",
       "      <td>330170</td>\n",
       "      <td>3301702</td>\n",
       "      <td>RJ</td>\n",
       "      <td>Duque de Caxias</td>\n",
       "      <td>Região Sudeste</td>\n",
       "      <td>855048.0</td>\n",
       "      <td>Grande</td>\n",
       "      <td>NaN</td>\n",
       "    </tr>\n",
       "    <tr>\n",
       "      <th>880</th>\n",
       "      <td>221100</td>\n",
       "      <td>2211001</td>\n",
       "      <td>PI</td>\n",
       "      <td>Teresina</td>\n",
       "      <td>Região Nordeste</td>\n",
       "      <td>814230.0</td>\n",
       "      <td>Grande</td>\n",
       "      <td>Capital</td>\n",
       "    </tr>\n",
       "    <tr>\n",
       "      <th>1161</th>\n",
       "      <td>240810</td>\n",
       "      <td>2408102</td>\n",
       "      <td>RN</td>\n",
       "      <td>Natal</td>\n",
       "      <td>Região Nordeste</td>\n",
       "      <td>803739.0</td>\n",
       "      <td>Grande</td>\n",
       "      <td>Capital</td>\n",
       "    </tr>\n",
       "  </tbody>\n",
       "</table>\n",
       "</div>"
      ],
      "text/plain": [
       "        IBGE    IBGE7  UF        Município               Região   \n",
       "3827  355030  3550308  SP        São Paulo       Região Sudeste  \\\n",
       "3240  330455  3304557  RJ   Rio de Janeiro       Região Sudeste   \n",
       "2160  292740  2927408  BA         Salvador      Região Nordeste   \n",
       "5567  530010  5300108  DF         Brasília  Região Centro-Oeste   \n",
       "947   230440  2304400  CE        Fortaleza      Região Nordeste   \n",
       "2307  310620  3106200  MG   Belo Horizonte       Região Sudeste   \n",
       "109   130260  1302603  AM           Manaus         Região Norte   \n",
       "4003  410690  4106902  PR         Curitiba           Região Sul   \n",
       "1594  261160  2611606  PE           Recife      Região Nordeste   \n",
       "4929  431490  4314902  RS     Porto Alegre           Região Sul   \n",
       "167   150140  1501402  PA            Belém         Região Norte   \n",
       "5415  520870  5208707  GO          Goiânia  Região Centro-Oeste   \n",
       "3477  351880  3518800  SP        Guarulhos       Região Sudeste   \n",
       "3373  350950  3509502  SP         Campinas       Região Sudeste   \n",
       "633   211130  2111300  MA         São Luís      Região Nordeste   \n",
       "3245  330490  3304904  RJ      São Gonçalo       Região Sudeste   \n",
       "1694  270430  2704302  AL           Maceió      Região Nordeste   \n",
       "3197  330170  3301702  RJ  Duque de Caxias       Região Sudeste   \n",
       "880   221100  2211001  PI         Teresina      Região Nordeste   \n",
       "1161  240810  2408102  RN            Natal      Região Nordeste   \n",
       "\n",
       "      População 2010      Porte  Capital  \n",
       "3827      11253503.0  Metrópole  Capital  \n",
       "3240       6320446.0  Metrópole  Capital  \n",
       "2160       2675656.0  Metrópole  Capital  \n",
       "5567       2570160.0  Metrópole  Capital  \n",
       "947        2452185.0  Metrópole  Capital  \n",
       "2307       2375151.0  Metrópole  Capital  \n",
       "109        1802014.0  Metrópole  Capital  \n",
       "4003       1751907.0  Metrópole  Capital  \n",
       "1594       1537704.0  Metrópole  Capital  \n",
       "4929       1409351.0  Metrópole  Capital  \n",
       "167        1393399.0  Metrópole  Capital  \n",
       "5415       1302001.0  Metrópole  Capital  \n",
       "3477       1221979.0  Metrópole      NaN  \n",
       "3373       1080113.0  Metrópole      NaN  \n",
       "633        1014837.0  Metrópole  Capital  \n",
       "3245        999728.0  Metrópole      NaN  \n",
       "1694        932748.0  Metrópole  Capital  \n",
       "3197        855048.0     Grande      NaN  \n",
       "880         814230.0     Grande  Capital  \n",
       "1161        803739.0     Grande  Capital  "
      ]
     },
     "metadata": {},
     "output_type": "display_data"
    }
   ],
   "source": [
    "# Renomeie o CSV\n",
    "municipios = pd.read_csv('municipios.csv', sep=';')\n",
    "# Ignorando duas colunas\n",
    "municipios = municipios.drop(columns=['ConcatUF+Mun', 'Unnamed: 9']).sort_values(by=['População 2010'], ascending=False)\n",
    "# Ignorando munícipios sem informação de população\n",
    "municipios = municipios.dropna(subset=['População 2010'])\n",
    "display(municipios.head(20))"
   ]
  },
  {
   "cell_type": "markdown",
   "metadata": {},
   "source": [
    "Colocando mais valor para Presidente Prudente, só por uma questão de bairrismo."
   ]
  },
  {
   "cell_type": "code",
   "execution_count": 10,
   "metadata": {},
   "outputs": [],
   "source": [
    "municipios.loc[municipios['Município'] == 'Presidente Prudente', 'População 2010'] = 1000000"
   ]
  },
  {
   "cell_type": "code",
   "execution_count": 11,
   "metadata": {},
   "outputs": [
    {
     "data": {
      "text/html": [
       "<div>\n",
       "<style scoped>\n",
       "    .dataframe tbody tr th:only-of-type {\n",
       "        vertical-align: middle;\n",
       "    }\n",
       "\n",
       "    .dataframe tbody tr th {\n",
       "        vertical-align: top;\n",
       "    }\n",
       "\n",
       "    .dataframe thead th {\n",
       "        text-align: right;\n",
       "    }\n",
       "</style>\n",
       "<table border=\"1\" class=\"dataframe\">\n",
       "  <thead>\n",
       "    <tr style=\"text-align: right;\">\n",
       "      <th></th>\n",
       "      <th>IBGE</th>\n",
       "      <th>IBGE7</th>\n",
       "      <th>UF</th>\n",
       "      <th>Município</th>\n",
       "      <th>Região</th>\n",
       "      <th>População 2010</th>\n",
       "      <th>Porte</th>\n",
       "      <th>Capital</th>\n",
       "    </tr>\n",
       "  </thead>\n",
       "  <tbody>\n",
       "    <tr>\n",
       "      <th>3729</th>\n",
       "      <td>354140</td>\n",
       "      <td>3541406</td>\n",
       "      <td>SP</td>\n",
       "      <td>Presidente Prudente</td>\n",
       "      <td>Região Sudeste</td>\n",
       "      <td>1000000.0</td>\n",
       "      <td>Grande</td>\n",
       "      <td>NaN</td>\n",
       "    </tr>\n",
       "  </tbody>\n",
       "</table>\n",
       "</div>"
      ],
      "text/plain": [
       "        IBGE    IBGE7  UF            Município          Região   \n",
       "3729  354140  3541406  SP  Presidente Prudente  Região Sudeste  \\\n",
       "\n",
       "      População 2010   Porte Capital  \n",
       "3729       1000000.0  Grande     NaN  "
      ]
     },
     "execution_count": 11,
     "metadata": {},
     "output_type": "execute_result"
    }
   ],
   "source": [
    "municipios[municipios['Município'] == 'Presidente Prudente']"
   ]
  },
  {
   "cell_type": "code",
   "execution_count": 12,
   "metadata": {},
   "outputs": [
    {
     "data": {
      "image/png": "[encoded data removed]",
      "text/plain": [
       "<Figure size 640x480 with 1 Axes>"
      ]
     },
     "metadata": {},
     "output_type": "display_data"
    }
   ],
   "source": [
    "from matplotlib import pyplot as plt\n",
    "import numpy as np\n",
    "\n",
    "# 1 -> Linear, 2 -> Quadrático\n",
    "# Utilizando um valor entre esses 2\n",
    "power = 1.337\n",
    "population_power = np.power(municipios['População 2010'].values, power)\n",
    "sum_of_powers = np.sum(population_power)\n",
    "weights = population_power / sum_of_powers\n",
    "random_idx = np.random.choice(len(municipios), size=USERS_IN_BRAZIL, p=weights)\n",
    "# Count the number of users created in each year\n",
    "# Year is x axis, count is y axis\n",
    "plt.hist(random_idx)\n",
    "plt.show()"
   ]
  },
  {
   "cell_type": "code",
   "execution_count": 13,
   "metadata": {},
   "outputs": [],
   "source": [
    "users_adresses = list()\n",
    "uf_count = dict()\n",
    "for i in range(USERS_IN_BRAZIL):\n",
    "    new_address = dict()\n",
    "    new_address['owner_id'] = users[i]['id']\n",
    "    new_address['city'] = municipios.iloc[random_idx[i]]['Município']\n",
    "    new_address['state'] = municipios.iloc[random_idx[i]]['UF']\n",
    "    new_address['country'] = 'Brazil' # Constante!\n",
    "    uf_count[new_address['state']] = uf_count.get(new_address['state'], 0) + 1\n",
    "    users_adresses.append(new_address)"
   ]
  },
  {
   "cell_type": "markdown",
   "metadata": {},
   "source": [
    "Conferindo distribuição por UF"
   ]
  },
  {
   "cell_type": "code",
   "execution_count": 14,
   "metadata": {},
   "outputs": [
    {
     "data": {
      "image/png": "[encoded data removed]",
      "text/plain": [
       "<Figure size 640x480 with 1 Axes>"
      ]
     },
     "metadata": {},
     "output_type": "display_data"
    }
   ],
   "source": [
    "from matplotlib import pyplot as plt\n",
    "\n",
    "uf_values = np.sort(municipios['UF'].unique())\n",
    "uf_counts = [uf_count[uf] for uf in uf_values]\n",
    "plt.pie(uf_counts, labels=uf_values)\n",
    "plt.show()"
   ]
  },
  {
   "cell_type": "markdown",
   "metadata": {},
   "source": [
    "## Resididos fora do Brasil"
   ]
  },
  {
   "cell_type": "markdown",
   "metadata": {},
   "source": [
    "Utilizando csv que pode ser encontrado [aqui](https://simplemaps.com/static/data/world-cities/basic/simplemaps_worldcities_basicv1.76.zip)"
   ]
  },
  {
   "cell_type": "code",
   "execution_count": 15,
   "metadata": {},
   "outputs": [],
   "source": [
    "world_cities = pd.read_csv('worldcities.csv')\n",
    "# Ignorando cidades sem dados populacionais\n",
    "world_cities = world_cities.dropna(subset=['population'])\n",
    "# Ignorando cidades brasileiras\n",
    "world_cities = world_cities[world_cities['country'] != 'Brazil']\n",
    "\n",
    "latin_america_countries = [\n",
    "    'Argentina',\n",
    "    'Bolivia',\n",
    "    'Chile',\n",
    "    'Colombia',\n",
    "    'Ecuador',\n",
    "    'French Guiana',\n",
    "    'Guyana',\n",
    "    'Paraguay',\n",
    "    'Peru',\n",
    "    'Suriname',\n",
    "    'Uruguay',\n",
    "    'Venezuela'\n",
    "]\n",
    "\n",
    "# Pesos -> População * (1 + (latinAmerica ? 1 ou 0)) ** 10\n",
    "weights = world_cities['population'].values * np.power(1 + world_cities['country'].isin(latin_america_countries).astype(int), 10)\n",
    "weights = weights / np.sum(weights)\n",
    "random_idx = np.random.choice(len(world_cities), size=USER_COUNT - USERS_IN_BRAZIL, p=weights)\n",
    "\n",
    "for i in range(USERS_IN_BRAZIL, USER_COUNT):\n",
    "    idx = random_idx[i - USERS_IN_BRAZIL]\n",
    "    new_address = dict()\n",
    "    new_address['owner_id'] = users[i]['id']\n",
    "    new_address['city'] = world_cities.iloc[idx]['city']\n",
    "    new_address['state'] = ''\n",
    "    new_address['country'] = world_cities.iloc[idx]['country']\n",
    "    users_adresses.append(new_address)"
   ]
  },
  {
   "cell_type": "code",
   "execution_count": 16,
   "metadata": {},
   "outputs": [
    {
     "data": {
      "text/plain": [
       "True"
      ]
     },
     "execution_count": 16,
     "metadata": {},
     "output_type": "execute_result"
    }
   ],
   "source": [
    "# Conferindo tamanho do array\n",
    "len(users_adresses) == USER_COUNT "
   ]
  },
  {
   "cell_type": "code",
   "execution_count": 17,
   "metadata": {},
   "outputs": [],
   "source": [
    "import pandas as pd\n",
    "\n",
    "pd.DataFrame(users_adresses).to_csv('addresses.csv', index=False)"
   ]
  },
  {
   "cell_type": "markdown",
   "metadata": {},
   "source": [
    "# Transferências"
   ]
  },
  {
   "cell_type": "markdown",
   "metadata": {},
   "source": [
    "Nesse caso, não incluiremos ID de conta. Referenciaremos diretamente o usuário dono da conta."
   ]
  },
  {
   "cell_type": "markdown",
   "metadata": {},
   "source": [
    "Gerando valores"
   ]
  },
  {
   "cell_type": "code",
   "execution_count": 18,
   "metadata": {},
   "outputs": [
    {
     "name": "stdout",
     "output_type": "stream",
     "text": [
      "Valor mínimo: 0.01\n",
      "Valor máximo: 4832.17\n"
     ]
    },
    {
     "data": {
      "image/png": "[encoded data removed]",
      "text/plain": [
       "<Figure size 640x480 with 1 Axes>"
      ]
     },
     "metadata": {},
     "output_type": "display_data"
    },
    {
     "data": {
      "image/png": "[encoded data removed]",
      "text/plain": [
       "<Figure size 640x480 with 1 Axes>"
      ]
     },
     "metadata": {},
     "output_type": "display_data"
    }
   ],
   "source": [
    "import numpy as np\n",
    "from matplotlib import pyplot as plt\n",
    "\n",
    "# Valores das transferências\n",
    "values = np.random.normal(loc=50, scale=25, size=TRANSFER_COUNT - 25)\n",
    "# Adicionando 25 outliers\n",
    "values = np.append(values, np.random.normal(loc=3000, scale=1000, size=25))\n",
    "# Valores negativos não fazem sentido nesse caso, aplicando módulo\n",
    "values = np.abs(values)\n",
    "# 2 casas decimais\n",
    "values = np.round(values, 2)\n",
    "print(f'Valor mínimo: {np.min(values)}')\n",
    "print(f'Valor máximo: {np.max(values)}')\n",
    "plt.hist(np.sort(values), bins=100)\n",
    "plt.show()\n",
    "plt.hist(np.sort(values)[:-25], bins=100)\n",
    "plt.show()"
   ]
  },
  {
   "cell_type": "markdown",
   "metadata": {},
   "source": [
    "Gerando horários de transferência"
   ]
  },
  {
   "cell_type": "code",
   "execution_count": 23,
   "metadata": {},
   "outputs": [
    {
     "name": "stdout",
     "output_type": "stream",
     "text": [
      "Valor mínimo: 12\n",
      "Valor máximo: 1439\n",
      "Média: 872.1060633160437\n"
     ]
    }
   ],
   "source": [
    "import numpy as np\n",
    "from scipy.stats import skewnorm\n",
    "from matplotlib import pyplot as plt\n",
    "from matplotlib.ticker import FuncFormatter\n",
    "\n",
    "\n",
    "# Horários das transferências\n",
    "# [0, 1440) -> Minutos após 00:00\n",
    "# Considerando que a maioria será feita no horário de 16h\n",
    "minutes = skewnorm.rvs(a=-0.5,loc=960, scale=240, size=TRANSFER_COUNT)\n",
    "while True:\n",
    "  minutes = np.round(minutes, 0).astype(int)\n",
    "  minutes_outside_interval = np.argwhere((minutes < 0) | (minutes >= 1440)).flatten()\n",
    "  if (minutes_outside_interval.size == 0):\n",
    "    break\n",
    "  minutes[minutes_outside_interval] = skewnorm.rvs(a=-0.5,loc=960, scale=240, size=len(minutes_outside_interval))\n",
    "min_to_datetime = lambda min: f'{int(min // 60):02d}:{int(min % 60):02d}'\n",
    "print(f'Valor mínimo: {np.min(minutes)}')\n",
    "print(f'Valor máximo: {np.max(minutes)}')\n",
    "print(f'Média: {np.mean(minutes)}')"
   ]
  },
  {
   "cell_type": "markdown",
   "metadata": {},
   "source": [
    "Vamos conferir para ver se faz sentido"
   ]
  },
  {
   "cell_type": "code",
   "execution_count": 24,
   "metadata": {},
   "outputs": [
    {
     "data": {
      "image/png": "[encoded data removed]",
      "text/plain": [
       "<Figure size 640x480 with 1 Axes>"
      ]
     },
     "metadata": {},
     "output_type": "display_data"
    }
   ],
   "source": [
    "formatter = FuncFormatter(lambda min, _: f'{(int(min) // 60):02d}:{(int(min) % 60):02d}')\n",
    "plt.gca().xaxis.set_major_formatter(formatter)\n",
    "plt.hist(minutes, bins=100)\n",
    "plt.show()"
   ]
  },
  {
   "cell_type": "code",
   "execution_count": 26,
   "metadata": {},
   "outputs": [],
   "source": [
    "from datetime import timedelta\n",
    "\n",
    "transfers = list()\n",
    "# Transferência não precisa ter ID\n",
    "# Apenas: Valor, status, created_at/updated_at e time_to_transfer (caso seja agendada)\n",
    "# Precisa de um ID do usuário de origem e um ID do usuário de destino\n",
    "# Esses são escolhidos aleatoriamente\n",
    "for i in range(TRANSFER_COUNT):\n",
    "    new_transfer = dict()\n",
    "    # Usuários de origem e destino são aleatórios, podendo ser o mesmo\n",
    "    # Lembre-se de que um mesmo usuário pode ter mais de uma conta!\n",
    "    nt_id_from = np.random.choice(USER_COUNT)\n",
    "    nt_id_to = np.random.choice(USER_COUNT)\n",
    "    # Limite inferior do tempo para a transferência \n",
    "    user_from = users[nt_id_from]\n",
    "    user_to = users[nt_id_to]\n",
    "    # Toma-se como base o usuário com created_at mais recente\n",
    "    lower_bound = datetime.fromisoformat(user_from['created_at']) if datetime.fromisoformat(\n",
    "        user_from['created_at']) > datetime.fromisoformat(user_to['created_at']) else datetime.fromisoformat(user_to['created_at'])\n",
    "    # Limite superior é 01/07/2023\n",
    "    upper_bound = datetime(2023, 7, 1)\n",
    "    nt_created_at: datetime = fake.date_time_between(\n",
    "        start_date=lower_bound, end_date=upper_bound)\n",
    "    # Sobrepondo hora e minuto usando distribuição gerada anteriormente\n",
    "    nt_created_at = nt_created_at.replace(hour=minutes[i] // 60, minute=minutes[i] % 60)\n",
    "    new_transfer['created_at'] = nt_created_at.isoformat()\n",
    "    # Valor também utiliza distribuição\n",
    "    new_transfer['value'] = values[i]\n",
    "    nt_status = np.random.choice(\n",
    "        ['FAILED', 'DONE', 'SCHEDULED'], p=[0.001, 0.6, 0.399])\n",
    "    new_transfer['updated_at'] = nt_created_at.isoformat()\n",
    "    if nt_status == 'SCHEDULED':\n",
    "        # Limite inferior é o dia após a criação da transferência\n",
    "        start_date = nt_created_at + timedelta(days=1)\n",
    "        nt_time_to_transfer = fake.date_between(\n",
    "            start_date=nt_created_at, end_date=upper_bound)\n",
    "        new_transfer['time_to_transfer'] = nt_time_to_transfer.isoformat()\n",
    "    else:\n",
    "        new_transfer['time_to_transfer'] = None\n",
    "    new_transfer['status'] = nt_status\n",
    "    new_transfer['id_from'] = user_from['id']\n",
    "    new_transfer['id_to'] = user_to['id']\n",
    "    transfers.append(new_transfer)"
   ]
  },
  {
   "cell_type": "code",
   "execution_count": 27,
   "metadata": {},
   "outputs": [],
   "source": [
    "import pandas as pd\n",
    "\n",
    "pd.DataFrame(transfers).to_csv('transfers.csv', index=False)"
   ]
  },
  {
   "cell_type": "markdown",
   "metadata": {},
   "source": [
    "Pendências:\n",
    "- Diferenciar valor de transferência por idade e UF\n",
    "- Corrigir problemas com dia 31 (nenhum onboarding realizado)\n",
    "- Simular taxa de *churn* (usuários não ativos)"
   ]
  }
 ],
 "metadata": {
  "kernelspec": {
   "display_name": "Python 3",
   "language": "python",
   "name": "python3"
  },
  "language_info": {
   "codemirror_mode": {
    "name": "ipython",
    "version": 3
   },
   "file_extension": ".py",
   "mimetype": "text/x-python",
   "name": "python",
   "nbconvert_exporter": "python",
   "pygments_lexer": "ipython3",
   "version": "3.11.3"
  },
  "orig_nbformat": 4
 },
 "nbformat": 4,
 "nbformat_minor": 2
}
